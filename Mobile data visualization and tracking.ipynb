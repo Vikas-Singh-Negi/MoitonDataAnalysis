{
 "cells": [
  {
   "cell_type": "markdown",
   "metadata": {},
   "source": [
    "# Mobile vehical tracking and movement data visualization\n"
   ]
  },
  {
   "cell_type": "markdown",
   "metadata": {},
   "source": [
    "### Introduction\n",
    "\n",
    "We will create an interactive visualization for vehical tracking making use of Folium HeatMapWithTime.\n",
    "Also, we will create trajectories from MovingPandas and use hvplot to generate an interactive visualization for movement data\n",
    "\n",
    "\n",
    "\n",
    "\n"
   ]
  },
  {
   "cell_type": "markdown",
   "metadata": {},
   "source": [
    "## Jupyter notebook setup"
   ]
  },
  {
   "cell_type": "code",
   "execution_count": 1,
   "metadata": {},
   "outputs": [],
   "source": [
    "%matplotlib inline"
   ]
  },
  {
   "cell_type": "code",
   "execution_count": 2,
   "metadata": {},
   "outputs": [
    {
     "data": {
      "text/html": [
       "<style>.container { width:100% !important; }</style>"
      ],
      "text/plain": [
       "<IPython.core.display.HTML object>"
      ]
     },
     "metadata": {},
     "output_type": "display_data"
    }
   ],
   "source": [
    "from IPython.core.display import display, HTML\n",
    "display(HTML(\"<style>.container { width:100% !important; }</style>\"))"
   ]
  },
  {
   "cell_type": "code",
   "execution_count": 468,
   "metadata": {},
   "outputs": [
    {
     "name": "stdout",
     "output_type": "stream",
     "text": [
      "0.5.rc1\n"
     ]
    }
   ],
   "source": [
    "import pandas as pd\n",
    "import geopandas as gpd\n",
    "from geopandas import GeoDataFrame, read_file\n",
    "from datetime import datetime, timedelta\n",
    "from matplotlib import pyplot as plt\n",
    "import folium\n",
    "import hvplot\n",
    "import holoviews as hvp\n",
    "import gpxpy\n",
    "import movingpandas as mpd\n",
    "print(mpd.__version__)\n",
    "import branca.colormap as cm\n",
    "from folium.plugins import HeatMap, HeatMapWithTime\n",
    "import warnings\n",
    "warnings.simplefilter(\"ignore\")"
   ]
  },
  {
   "cell_type": "markdown",
   "metadata": {},
   "source": [
    "## Trajectory creation from GPX data\n",
    "\n"
   ]
  },
  {
   "cell_type": "code",
   "execution_count": 270,
   "metadata": {},
   "outputs": [],
   "source": [
    "df1=open('data/20201021-183623.gpx','r')\n",
    "gpx = gpxpy.parse(df1)"
   ]
  },
  {
   "cell_type": "code",
   "execution_count": 271,
   "metadata": {},
   "outputs": [],
   "source": [
    "data = gpx.tracks[0].segments[0].points"
   ]
  },
  {
   "cell_type": "code",
   "execution_count": 272,
   "metadata": {},
   "outputs": [],
   "source": [
    "## Start Position\n",
    "start = data[0]\n",
    "## End Position\n",
    "finish = data[-1]\n"
   ]
  },
  {
   "cell_type": "code",
   "execution_count": 273,
   "metadata": {},
   "outputs": [],
   "source": [
    "#Creating a panda dataframe from the above points list that we extracted out of gpx data\n",
    "df = pd.DataFrame(columns=['lon', 'lat', 'alt', 'time','speed'])\n",
    "for point in data:\n",
    "    df=df.append({'lon':point.longitude,'lat':point.latitude,'alt':point.elevation,'time':point.time,'speed':point.speed},ignore_index=True)"
   ]
  },
  {
   "cell_type": "code",
   "execution_count": 274,
   "metadata": {},
   "outputs": [
    {
     "data": {
      "text/html": [
       "<div>\n",
       "<style scoped>\n",
       "    .dataframe tbody tr th:only-of-type {\n",
       "        vertical-align: middle;\n",
       "    }\n",
       "\n",
       "    .dataframe tbody tr th {\n",
       "        vertical-align: top;\n",
       "    }\n",
       "\n",
       "    .dataframe thead th {\n",
       "        text-align: right;\n",
       "    }\n",
       "</style>\n",
       "<table border=\"1\" class=\"dataframe\">\n",
       "  <thead>\n",
       "    <tr style=\"text-align: right;\">\n",
       "      <th></th>\n",
       "      <th>lon</th>\n",
       "      <th>lat</th>\n",
       "      <th>alt</th>\n",
       "      <th>time</th>\n",
       "      <th>speed</th>\n",
       "    </tr>\n",
       "  </thead>\n",
       "  <tbody>\n",
       "    <tr>\n",
       "      <th>0</th>\n",
       "      <td>28.062550</td>\n",
       "      <td>-26.022658</td>\n",
       "      <td>1434.753</td>\n",
       "      <td>2020-10-21 16:36:23+00:00</td>\n",
       "      <td>1.15</td>\n",
       "    </tr>\n",
       "    <tr>\n",
       "      <th>1</th>\n",
       "      <td>28.062540</td>\n",
       "      <td>-26.022656</td>\n",
       "      <td>1435.579</td>\n",
       "      <td>2020-10-21 16:36:24+00:00</td>\n",
       "      <td>0.93</td>\n",
       "    </tr>\n",
       "    <tr>\n",
       "      <th>2</th>\n",
       "      <td>28.062524</td>\n",
       "      <td>-26.022653</td>\n",
       "      <td>1435.531</td>\n",
       "      <td>2020-10-21 16:36:25+00:00</td>\n",
       "      <td>1.70</td>\n",
       "    </tr>\n",
       "    <tr>\n",
       "      <th>3</th>\n",
       "      <td>28.062507</td>\n",
       "      <td>-26.022651</td>\n",
       "      <td>1434.636</td>\n",
       "      <td>2020-10-21 16:36:26+00:00</td>\n",
       "      <td>1.52</td>\n",
       "    </tr>\n",
       "    <tr>\n",
       "      <th>4</th>\n",
       "      <td>28.062491</td>\n",
       "      <td>-26.022649</td>\n",
       "      <td>1434.525</td>\n",
       "      <td>2020-10-21 16:36:27+00:00</td>\n",
       "      <td>1.52</td>\n",
       "    </tr>\n",
       "  </tbody>\n",
       "</table>\n",
       "</div>"
      ],
      "text/plain": [
       "         lon        lat       alt                      time  speed\n",
       "0  28.062550 -26.022658  1434.753 2020-10-21 16:36:23+00:00   1.15\n",
       "1  28.062540 -26.022656  1435.579 2020-10-21 16:36:24+00:00   0.93\n",
       "2  28.062524 -26.022653  1435.531 2020-10-21 16:36:25+00:00   1.70\n",
       "3  28.062507 -26.022651  1434.636 2020-10-21 16:36:26+00:00   1.52\n",
       "4  28.062491 -26.022649  1434.525 2020-10-21 16:36:27+00:00   1.52"
      ]
     },
     "execution_count": 274,
     "metadata": {},
     "output_type": "execute_result"
    }
   ],
   "source": [
    "df.head()"
   ]
  },
  {
   "cell_type": "code",
   "execution_count": 275,
   "metadata": {},
   "outputs": [
    {
     "data": {
      "text/html": [
       "<div>\n",
       "<style scoped>\n",
       "    .dataframe tbody tr th:only-of-type {\n",
       "        vertical-align: middle;\n",
       "    }\n",
       "\n",
       "    .dataframe tbody tr th {\n",
       "        vertical-align: top;\n",
       "    }\n",
       "\n",
       "    .dataframe thead th {\n",
       "        text-align: right;\n",
       "    }\n",
       "</style>\n",
       "<table border=\"1\" class=\"dataframe\">\n",
       "  <thead>\n",
       "    <tr style=\"text-align: right;\">\n",
       "      <th></th>\n",
       "      <th>lon</th>\n",
       "      <th>lat</th>\n",
       "      <th>alt</th>\n",
       "      <th>speed</th>\n",
       "      <th>traj_id</th>\n",
       "    </tr>\n",
       "    <tr>\n",
       "      <th>time</th>\n",
       "      <th></th>\n",
       "      <th></th>\n",
       "      <th></th>\n",
       "      <th></th>\n",
       "      <th></th>\n",
       "    </tr>\n",
       "  </thead>\n",
       "  <tbody>\n",
       "    <tr>\n",
       "      <th>2020-10-21 16:36:23</th>\n",
       "      <td>28.062550</td>\n",
       "      <td>-26.022658</td>\n",
       "      <td>1434.753</td>\n",
       "      <td>1.15</td>\n",
       "      <td>1</td>\n",
       "    </tr>\n",
       "    <tr>\n",
       "      <th>2020-10-21 16:36:24</th>\n",
       "      <td>28.062540</td>\n",
       "      <td>-26.022656</td>\n",
       "      <td>1435.579</td>\n",
       "      <td>0.93</td>\n",
       "      <td>1</td>\n",
       "    </tr>\n",
       "    <tr>\n",
       "      <th>2020-10-21 16:36:25</th>\n",
       "      <td>28.062524</td>\n",
       "      <td>-26.022653</td>\n",
       "      <td>1435.531</td>\n",
       "      <td>1.70</td>\n",
       "      <td>1</td>\n",
       "    </tr>\n",
       "    <tr>\n",
       "      <th>2020-10-21 16:36:26</th>\n",
       "      <td>28.062507</td>\n",
       "      <td>-26.022651</td>\n",
       "      <td>1434.636</td>\n",
       "      <td>1.52</td>\n",
       "      <td>1</td>\n",
       "    </tr>\n",
       "    <tr>\n",
       "      <th>2020-10-21 16:36:27</th>\n",
       "      <td>28.062491</td>\n",
       "      <td>-26.022649</td>\n",
       "      <td>1434.525</td>\n",
       "      <td>1.52</td>\n",
       "      <td>1</td>\n",
       "    </tr>\n",
       "  </tbody>\n",
       "</table>\n",
       "</div>"
      ],
      "text/plain": [
       "                           lon        lat       alt  speed  traj_id\n",
       "time                                                               \n",
       "2020-10-21 16:36:23  28.062550 -26.022658  1434.753   1.15        1\n",
       "2020-10-21 16:36:24  28.062540 -26.022656  1435.579   0.93        1\n",
       "2020-10-21 16:36:25  28.062524 -26.022653  1435.531   1.70        1\n",
       "2020-10-21 16:36:26  28.062507 -26.022651  1434.636   1.52        1\n",
       "2020-10-21 16:36:27  28.062491 -26.022649  1434.525   1.52        1"
      ]
     },
     "execution_count": 275,
     "metadata": {},
     "output_type": "execute_result"
    }
   ],
   "source": [
    "#movingpandas expects a trajectory id and time column as index ,so we need to create both of them.In below example we only have one trajectory for my trip from home to grocery store so let's put a unique ID column\n",
    "df = df.set_index('time').tz_localize(None)\n",
    "df['traj_id'] = 1\n",
    "df.head()"
   ]
  },
  {
   "cell_type": "code",
   "execution_count": 276,
   "metadata": {},
   "outputs": [
    {
     "name": "stdout",
     "output_type": "stream",
     "text": [
      "finished reading 1286\n"
     ]
    }
   ],
   "source": [
    "df.head()\n",
    "print('finished reading {}'.format(len(df)))"
   ]
  },
  {
   "cell_type": "code",
   "execution_count": 31,
   "metadata": {},
   "outputs": [
    {
     "data": {
      "text/plain": [
       "<AxesSubplot:xlabel='time'>"
      ]
     },
     "execution_count": 31,
     "metadata": {},
     "output_type": "execute_result"
    },
    {
     "data": {
      "image/png": "[encoded data removed]",
      "text/plain": [
       "<Figure size 432x288 with 1 Axes>"
      ]
     },
     "metadata": {
      "needs_background": "light"
     },
     "output_type": "display_data"
    }
   ],
   "source": [
    "df.plot()"
   ]
  },
  {
   "cell_type": "code",
   "execution_count": 277,
   "metadata": {},
   "outputs": [
    {
     "data": {
      "text/html": [
       "<div>\n",
       "<style scoped>\n",
       "    .dataframe tbody tr th:only-of-type {\n",
       "        vertical-align: middle;\n",
       "    }\n",
       "\n",
       "    .dataframe tbody tr th {\n",
       "        vertical-align: top;\n",
       "    }\n",
       "\n",
       "    .dataframe thead th {\n",
       "        text-align: right;\n",
       "    }\n",
       "</style>\n",
       "<table border=\"1\" class=\"dataframe\">\n",
       "  <thead>\n",
       "    <tr style=\"text-align: right;\">\n",
       "      <th></th>\n",
       "      <th>lon</th>\n",
       "      <th>lat</th>\n",
       "      <th>alt</th>\n",
       "      <th>speed</th>\n",
       "      <th>traj_id</th>\n",
       "      <th>geometry</th>\n",
       "    </tr>\n",
       "    <tr>\n",
       "      <th>time</th>\n",
       "      <th></th>\n",
       "      <th></th>\n",
       "      <th></th>\n",
       "      <th></th>\n",
       "      <th></th>\n",
       "      <th></th>\n",
       "    </tr>\n",
       "  </thead>\n",
       "  <tbody>\n",
       "    <tr>\n",
       "      <th>2020-10-21 16:36:23</th>\n",
       "      <td>28.062550</td>\n",
       "      <td>-26.022658</td>\n",
       "      <td>1434.753</td>\n",
       "      <td>1.15</td>\n",
       "      <td>1</td>\n",
       "      <td>POINT (28.06255 -26.02266)</td>\n",
       "    </tr>\n",
       "    <tr>\n",
       "      <th>2020-10-21 16:36:24</th>\n",
       "      <td>28.062540</td>\n",
       "      <td>-26.022656</td>\n",
       "      <td>1435.579</td>\n",
       "      <td>0.93</td>\n",
       "      <td>1</td>\n",
       "      <td>POINT (28.06254 -26.02266)</td>\n",
       "    </tr>\n",
       "    <tr>\n",
       "      <th>2020-10-21 16:36:25</th>\n",
       "      <td>28.062524</td>\n",
       "      <td>-26.022653</td>\n",
       "      <td>1435.531</td>\n",
       "      <td>1.70</td>\n",
       "      <td>1</td>\n",
       "      <td>POINT (28.06252 -26.02265)</td>\n",
       "    </tr>\n",
       "    <tr>\n",
       "      <th>2020-10-21 16:36:26</th>\n",
       "      <td>28.062507</td>\n",
       "      <td>-26.022651</td>\n",
       "      <td>1434.636</td>\n",
       "      <td>1.52</td>\n",
       "      <td>1</td>\n",
       "      <td>POINT (28.06251 -26.02265)</td>\n",
       "    </tr>\n",
       "    <tr>\n",
       "      <th>2020-10-21 16:36:27</th>\n",
       "      <td>28.062491</td>\n",
       "      <td>-26.022649</td>\n",
       "      <td>1434.525</td>\n",
       "      <td>1.52</td>\n",
       "      <td>1</td>\n",
       "      <td>POINT (28.06249 -26.02265)</td>\n",
       "    </tr>\n",
       "  </tbody>\n",
       "</table>\n",
       "</div>"
      ],
      "text/plain": [
       "                           lon        lat       alt  speed  traj_id  \\\n",
       "time                                                                  \n",
       "2020-10-21 16:36:23  28.062550 -26.022658  1434.753   1.15        1   \n",
       "2020-10-21 16:36:24  28.062540 -26.022656  1435.579   0.93        1   \n",
       "2020-10-21 16:36:25  28.062524 -26.022653  1435.531   1.70        1   \n",
       "2020-10-21 16:36:26  28.062507 -26.022651  1434.636   1.52        1   \n",
       "2020-10-21 16:36:27  28.062491 -26.022649  1434.525   1.52        1   \n",
       "\n",
       "                                       geometry  \n",
       "time                                             \n",
       "2020-10-21 16:36:23  POINT (28.06255 -26.02266)  \n",
       "2020-10-21 16:36:24  POINT (28.06254 -26.02266)  \n",
       "2020-10-21 16:36:25  POINT (28.06252 -26.02265)  \n",
       "2020-10-21 16:36:26  POINT (28.06251 -26.02265)  \n",
       "2020-10-21 16:36:27  POINT (28.06249 -26.02265)  "
      ]
     },
     "execution_count": 277,
     "metadata": {},
     "output_type": "execute_result"
    }
   ],
   "source": [
    "#Above plot does not reflect underneath geometrical aspect so, lets create geometrical dataframe using geopandas\n",
    "gdf = gpd.GeoDataFrame(df,geometry=gpd.points_from_xy(df['lon'],df['lat']),crs='epsg:4326')\n",
    "gdf.head()"
   ]
  },
  {
   "cell_type": "code",
   "execution_count": 278,
   "metadata": {},
   "outputs": [
    {
     "data": {
      "text/plain": [
       "<AxesSubplot:>"
      ]
     },
     "execution_count": 278,
     "metadata": {},
     "output_type": "execute_result"
    },
    {
     "data": {
      "image/png": "[encoded data removed]",
      "text/plain": [
       "<Figure size 432x288 with 1 Axes>"
      ]
     },
     "metadata": {
      "needs_background": "light"
     },
     "output_type": "display_data"
    }
   ],
   "source": [
    "gdf.plot()"
   ]
  },
  {
   "cell_type": "code",
   "execution_count": 279,
   "metadata": {},
   "outputs": [
    {
     "data": {
      "text/plain": [
       "<Geographic 2D CRS: EPSG:4326>\n",
       "Name: WGS 84\n",
       "Axis Info [ellipsoidal]:\n",
       "- Lat[north]: Geodetic latitude (degree)\n",
       "- Lon[east]: Geodetic longitude (degree)\n",
       "Area of Use:\n",
       "- name: World\n",
       "- bounds: (-180.0, -90.0, 180.0, 90.0)\n",
       "Datum: World Geodetic System 1984\n",
       "- Ellipsoid: WGS 84\n",
       "- Prime Meridian: Greenwich"
      ]
     },
     "execution_count": 279,
     "metadata": {},
     "output_type": "execute_result"
    }
   ],
   "source": [
    "#check CRS of geo dataframe\n",
    "gdf.crs"
   ]
  },
  {
   "cell_type": "markdown",
   "metadata": {},
   "source": [
    "### Let's create trajectories with TrajectoryCollection movingpandas package\n"
   ]
  },
  {
   "cell_type": "code",
   "execution_count": 280,
   "metadata": {},
   "outputs": [],
   "source": [
    "traj_collection = mpd.TrajectoryCollection(gdf, 'traj_id')\n"
   ]
  },
  {
   "cell_type": "markdown",
   "metadata": {},
   "source": [
    "### Ploting Trajectory Collection"
   ]
  },
  {
   "cell_type": "code",
   "execution_count": 284,
   "metadata": {},
   "outputs": [
    {
     "data": {
      "text/plain": [
       "<AxesSubplot:>"
      ]
     },
     "execution_count": 284,
     "metadata": {},
     "output_type": "execute_result"
    },
    {
     "data": {
      "image/png": "[encoded data removed]",
      "text/plain": [
       "<Figure size 648x360 with 2 Axes>"
      ]
     },
     "metadata": {
      "needs_background": "light"
     },
     "output_type": "display_data"
    }
   ],
   "source": [
    "traj_collection.plot(column='traj_id', legend=True, figsize=(9,5))"
   ]
  },
  {
   "cell_type": "markdown",
   "metadata": {},
   "source": [
    "#### Lets create an interactive plot to visualize trajectory collection"
   ]
  },
  {
   "cell_type": "code",
   "execution_count": 285,
   "metadata": {},
   "outputs": [],
   "source": [
    "xplot=traj_collection.hvplot(c='speed',hover_cols=[speed],width=700, height=400, line_width=7.0, tiles='ESRI', cmap='Viridis', colorbar=True, clim=(0,20))\n"
   ]
  },
  {
   "cell_type": "code",
   "execution_count": 286,
   "metadata": {},
   "outputs": [],
   "source": [
    "hvplot.save(xplot,'movement_data_viz_using_hvplot.html')"
   ]
  },
  {
   "cell_type": "markdown",
   "metadata": {},
   "source": [
    "#### Creation of placemarks and start and end point of vehicle"
   ]
  },
  {
   "cell_type": "code",
   "execution_count": 436,
   "metadata": {},
   "outputs": [
    {
     "data": {
      "text/plain": [
       "2020-10-21 17:07:55    Mobile Generator Warehouse Extension\n",
       "Name: Location_name, dtype: object"
      ]
     },
     "execution_count": 436,
     "metadata": {},
     "output_type": "execute_result"
    }
   ],
   "source": [
    "start_point=traj_collection.get_start_locations()\n",
    "end_point=traj_collection.get_end_locations()\n",
    "start_point['Location_name'] = 'Mobile Generator Warehouse'\n",
    "end_point['Location_name'] = 'Mobile Generator Warehouse Extension'\n",
    "end_point['Location_name']"
   ]
  },
  {
   "cell_type": "code",
   "execution_count": 288,
   "metadata": {
    "scrolled": true
   },
   "outputs": [
    {
     "data": {
      "text/html": [
       "<div>\n",
       "<style scoped>\n",
       "    .dataframe tbody tr th:only-of-type {\n",
       "        vertical-align: middle;\n",
       "    }\n",
       "\n",
       "    .dataframe tbody tr th {\n",
       "        vertical-align: top;\n",
       "    }\n",
       "\n",
       "    .dataframe thead th {\n",
       "        text-align: right;\n",
       "    }\n",
       "</style>\n",
       "<table border=\"1\" class=\"dataframe\">\n",
       "  <thead>\n",
       "    <tr style=\"text-align: right;\">\n",
       "      <th></th>\n",
       "      <th>ele</th>\n",
       "      <th>time</th>\n",
       "      <th>magvar</th>\n",
       "      <th>geoidheight</th>\n",
       "      <th>name</th>\n",
       "      <th>cmt</th>\n",
       "      <th>desc</th>\n",
       "      <th>src</th>\n",
       "      <th>url</th>\n",
       "      <th>urlname</th>\n",
       "      <th>sym</th>\n",
       "      <th>type</th>\n",
       "      <th>fix</th>\n",
       "      <th>sat</th>\n",
       "      <th>hdop</th>\n",
       "      <th>vdop</th>\n",
       "      <th>pdop</th>\n",
       "      <th>ageofdgpsdata</th>\n",
       "      <th>dgpsid</th>\n",
       "      <th>geometry</th>\n",
       "    </tr>\n",
       "  </thead>\n",
       "  <tbody>\n",
       "    <tr>\n",
       "      <th>0</th>\n",
       "      <td>1426.791</td>\n",
       "      <td>2020-10-21T16:46:06+00:00</td>\n",
       "      <td>None</td>\n",
       "      <td>None</td>\n",
       "      <td>Network site 1</td>\n",
       "      <td>None</td>\n",
       "      <td>None</td>\n",
       "      <td>None</td>\n",
       "      <td>None</td>\n",
       "      <td>None</td>\n",
       "      <td>None</td>\n",
       "      <td>None</td>\n",
       "      <td>None</td>\n",
       "      <td>10</td>\n",
       "      <td>None</td>\n",
       "      <td>None</td>\n",
       "      <td>None</td>\n",
       "      <td>None</td>\n",
       "      <td>None</td>\n",
       "      <td>POINT (28.06191 -26.03011)</td>\n",
       "    </tr>\n",
       "    <tr>\n",
       "      <th>1</th>\n",
       "      <td>1435.686</td>\n",
       "      <td>2020-10-21T16:57:41+00:00</td>\n",
       "      <td>None</td>\n",
       "      <td>None</td>\n",
       "      <td>Network site 2</td>\n",
       "      <td>None</td>\n",
       "      <td>None</td>\n",
       "      <td>None</td>\n",
       "      <td>None</td>\n",
       "      <td>None</td>\n",
       "      <td>None</td>\n",
       "      <td>None</td>\n",
       "      <td>None</td>\n",
       "      <td>15</td>\n",
       "      <td>None</td>\n",
       "      <td>None</td>\n",
       "      <td>None</td>\n",
       "      <td>None</td>\n",
       "      <td>None</td>\n",
       "      <td>POINT (28.06492 -26.03572)</td>\n",
       "    </tr>\n",
       "    <tr>\n",
       "      <th>2</th>\n",
       "      <td>1442.441</td>\n",
       "      <td>2020-10-21T17:07:01+00:00</td>\n",
       "      <td>None</td>\n",
       "      <td>None</td>\n",
       "      <td>Network site 3</td>\n",
       "      <td>None</td>\n",
       "      <td>None</td>\n",
       "      <td>None</td>\n",
       "      <td>None</td>\n",
       "      <td>None</td>\n",
       "      <td>None</td>\n",
       "      <td>None</td>\n",
       "      <td>None</td>\n",
       "      <td>18</td>\n",
       "      <td>None</td>\n",
       "      <td>None</td>\n",
       "      <td>None</td>\n",
       "      <td>None</td>\n",
       "      <td>None</td>\n",
       "      <td>POINT (28.06313 -26.02224)</td>\n",
       "    </tr>\n",
       "  </tbody>\n",
       "</table>\n",
       "</div>"
      ],
      "text/plain": [
       "        ele                       time magvar geoidheight            name  \\\n",
       "0  1426.791  2020-10-21T16:46:06+00:00   None        None  Network site 1   \n",
       "1  1435.686  2020-10-21T16:57:41+00:00   None        None  Network site 2   \n",
       "2  1442.441  2020-10-21T17:07:01+00:00   None        None  Network site 3   \n",
       "\n",
       "    cmt  desc   src   url urlname   sym  type   fix  sat  hdop  vdop  pdop  \\\n",
       "0  None  None  None  None    None  None  None  None   10  None  None  None   \n",
       "1  None  None  None  None    None  None  None  None   15  None  None  None   \n",
       "2  None  None  None  None    None  None  None  None   18  None  None  None   \n",
       "\n",
       "  ageofdgpsdata dgpsid                    geometry  \n",
       "0          None   None  POINT (28.06191 -26.03011)  \n",
       "1          None   None  POINT (28.06492 -26.03572)  \n",
       "2          None   None  POINT (28.06313 -26.02224)  "
      ]
     },
     "execution_count": 288,
     "metadata": {},
     "output_type": "execute_result"
    }
   ],
   "source": [
    "place_marks = read_file('data/20201021-183623.gpx')\n",
    "place_marks.head()"
   ]
  },
  {
   "cell_type": "code",
   "execution_count": 458,
   "metadata": {},
   "outputs": [
    {
     "data": {},
     "metadata": {},
     "output_type": "display_data"
    },
    {
     "data": {
      "application/vnd.holoviews_exec.v0+json": "",
      "text/html": [
       "<div id='14506'>\n",
       "\n",
       "\n",
       "\n",
       "\n",
       "\n",
       "  <div class=\"bk-root\" id=\"96a34b9d-d1f0-4435-8108-c104451e727a\" data-root-id=\"14506\"></div>\n",
       "</div>\n",
       "<script type=\"application/javascript\">(function(root) {\n",
       "  function embed_document(root) {\n",
       "  var docs_json = {\"8c2cecab-b071-40cd-97fc-9a7d71bead7a\":{\"roots\":{\"references\":[{\"attributes\":{\"axis\":{\"id\":\"14524\"},\"grid_line_color\":null,\"ticker\":null},\"id\":\"14527\",\"type\":\"Grid\"},{\"attributes\":{\"fill_alpha\":{\"value\":0.2},\"fill_color\":{\"field\":\"color\",\"transform\":{\"id\":\"14558\"}},\"line_alpha\":{\"value\":0.2},\"line_color\":{\"field\":\"color\",\"transform\":{\"id\":\"14558\"}},\"line_width\":{\"value\":7.0},\"size\":{\"units\":\"screen\",\"value\":5.477225575051661},\"x\":{\"field\":\"x\"},\"y\":{\"field\":\"y\"}},\"id\":\"14566\",\"type\":\"Scatter\"},{\"attributes\":{},\"id\":\"14560\",\"type\":\"Selection\"},{\"attributes\":{},\"id\":\"14529\",\"type\":\"BasicTicker\"},{\"attributes\":{},\"id\":\"14525\",\"type\":\"BasicTicker\"},{\"attributes\":{\"axis_label\":\"x\",\"bounds\":\"auto\",\"formatter\":{\"id\":\"14547\"},\"major_label_orientation\":\"horizontal\",\"ticker\":{\"id\":\"14525\"}},\"id\":\"14524\",\"type\":\"LinearAxis\"},{\"attributes\":{\"fill_alpha\":{\"value\":0.1},\"fill_color\":{\"field\":\"color\",\"transform\":{\"id\":\"14558\"}},\"line_alpha\":{\"value\":0.1},\"line_color\":{\"field\":\"color\",\"transform\":{\"id\":\"14558\"}},\"line_width\":{\"value\":7.0},\"size\":{\"units\":\"screen\",\"value\":5.477225575051661},\"x\":{\"field\":\"x\"},\"y\":{\"field\":\"y\"}},\"id\":\"14563\",\"type\":\"Scatter\"},{\"attributes\":{\"text\":\"\",\"text_color\":{\"value\":\"black\"},\"text_font_size\":{\"value\":\"12pt\"}},\"id\":\"14516\",\"type\":\"Title\"},{\"attributes\":{\"axis\":{\"id\":\"14528\"},\"dimension\":1,\"grid_line_color\":null,\"ticker\":null},\"id\":\"14531\",\"type\":\"Grid\"},{\"attributes\":{\"data\":{\"color\":[\"Network site 1\",\"Network site 2\",\"Network site 3\"],\"name\":[\"Network site 1\",\"Network site 2\",\"Network site 3\"],\"x\":{\"__ndarray__\":\"tTmtX9kPPECdEs52nhA8QIxzzGApEDxA\",\"dtype\":\"float64\",\"order\":\"little\",\"shape\":[3]},\"y\":{\"__ndarray__\":\"f3ddhbUHOsDD6H/aJAk6wAqjtJKxBTrA\",\"dtype\":\"float64\",\"order\":\"little\",\"shape\":[3]}},\"selected\":{\"id\":\"14560\"},\"selection_policy\":{\"id\":\"14576\"}},\"id\":\"14559\",\"type\":\"ColumnDataSource\"},{\"attributes\":{},\"id\":\"14576\",\"type\":\"UnionRenderers\"},{\"attributes\":{\"above\":[{\"id\":\"14577\"}],\"align\":null,\"below\":[{\"id\":\"14524\"}],\"center\":[{\"id\":\"14527\"},{\"id\":\"14531\"}],\"left\":[{\"id\":\"14528\"}],\"margin\":null,\"min_border_bottom\":10,\"min_border_left\":10,\"min_border_right\":10,\"min_border_top\":10,\"plot_height\":500,\"plot_width\":1000,\"renderers\":[{\"id\":\"14554\"},{\"id\":\"14567\"}],\"sizing_mode\":\"fixed\",\"title\":{\"id\":\"14516\"},\"toolbar\":{\"id\":\"14538\"},\"x_range\":{\"id\":\"14510\"},\"x_scale\":{\"id\":\"14520\"},\"y_range\":{\"id\":\"14511\"},\"y_scale\":{\"id\":\"14522\"}},\"id\":\"14515\",\"subtype\":\"Figure\",\"type\":\"Plot\"},{\"attributes\":{},\"id\":\"14547\",\"type\":\"BasicTickFormatter\"},{\"attributes\":{\"end\":-26.020893021,\"reset_end\":-26.020893021,\"reset_start\":-26.037066368999998,\"start\":-26.037066368999998,\"tags\":[[[\"y\",\"y\",null]]]},\"id\":\"14511\",\"type\":\"Range1d\"},{\"attributes\":{\"tile_source\":{\"id\":\"14551\"}},\"id\":\"14554\",\"type\":\"TileRenderer\"},{\"attributes\":{},\"id\":\"14536\",\"type\":\"ResetTool\"},{\"attributes\":{\"fill_color\":{\"field\":\"color\",\"transform\":{\"id\":\"14558\"}},\"line_color\":{\"field\":\"color\",\"transform\":{\"id\":\"14558\"}},\"line_width\":{\"value\":7.0},\"size\":{\"units\":\"screen\",\"value\":5.477225575051661},\"x\":{\"field\":\"x\"},\"y\":{\"field\":\"y\"}},\"id\":\"14562\",\"type\":\"Scatter\"},{\"attributes\":{\"click_policy\":\"mute\",\"items\":[{\"id\":\"14578\"}],\"location\":[0,0],\"orientation\":\"horizontal\"},\"id\":\"14577\",\"type\":\"Legend\"},{\"attributes\":{},\"id\":\"14522\",\"type\":\"LinearScale\"},{\"attributes\":{\"margin\":[5,5,5,5],\"name\":\"HSpacer4986067\",\"sizing_mode\":\"stretch_width\"},\"id\":\"14653\",\"type\":\"Spacer\"},{\"attributes\":{\"label\":{\"field\":\"color\"},\"renderers\":[{\"id\":\"14567\"}]},\"id\":\"14578\",\"type\":\"LegendItem\"},{\"attributes\":{\"children\":[{\"id\":\"14507\"},{\"id\":\"14515\"},{\"id\":\"14653\"}],\"margin\":[0,0,0,0],\"name\":\"Row4986062\",\"tags\":[\"embedded\"]},\"id\":\"14506\",\"type\":\"Row\"},{\"attributes\":{\"axis_label\":\"y\",\"bounds\":\"auto\",\"formatter\":{\"id\":\"14549\"},\"major_label_orientation\":\"horizontal\",\"ticker\":{\"id\":\"14529\"}},\"id\":\"14528\",\"type\":\"LinearAxis\"},{\"attributes\":{},\"id\":\"14549\",\"type\":\"BasicTickFormatter\"},{\"attributes\":{\"active_drag\":\"auto\",\"active_inspect\":\"auto\",\"active_multi\":null,\"active_scroll\":{\"id\":\"14534\"},\"active_tap\":\"auto\",\"tools\":[{\"id\":\"14512\"},{\"id\":\"14533\"},{\"id\":\"14534\"},{\"id\":\"14535\"},{\"id\":\"14536\"}]},\"id\":\"14538\",\"type\":\"Toolbar\"},{\"attributes\":{\"fill_color\":{\"field\":\"color\",\"transform\":{\"id\":\"14558\"}},\"line_color\":{\"field\":\"color\",\"transform\":{\"id\":\"14558\"}},\"line_width\":{\"value\":7.0},\"size\":{\"units\":\"screen\",\"value\":5.477225575051661},\"x\":{\"field\":\"x\"},\"y\":{\"field\":\"y\"}},\"id\":\"14565\",\"type\":\"Scatter\"},{\"attributes\":{\"factors\":[\"Network site 1\",\"Network site 2\",\"Network site 3\"],\"palette\":[\"#440154\",\"#440255\",\"#440357\"]},\"id\":\"14558\",\"type\":\"CategoricalColorMapper\"},{\"attributes\":{\"data_source\":{\"id\":\"14559\"},\"glyph\":{\"id\":\"14562\"},\"hover_glyph\":{\"id\":\"14565\"},\"muted_glyph\":{\"id\":\"14566\"},\"nonselection_glyph\":{\"id\":\"14563\"},\"selection_glyph\":{\"id\":\"14564\"},\"view\":{\"id\":\"14568\"}},\"id\":\"14567\",\"type\":\"GlyphRenderer\"},{\"attributes\":{\"callback\":null,\"renderers\":[{\"id\":\"14567\"}],\"tags\":[\"hv_created\"],\"tooltips\":[[\"x\",\"@{x}\"],[\"y\",\"@{y}\"],[\"name\",\"@{name}\"]]},\"id\":\"14512\",\"type\":\"HoverTool\"},{\"attributes\":{\"margin\":[5,5,5,5],\"name\":\"HSpacer4986066\",\"sizing_mode\":\"stretch_width\"},\"id\":\"14507\",\"type\":\"Spacer\"},{\"attributes\":{\"overlay\":{\"id\":\"14537\"}},\"id\":\"14535\",\"type\":\"BoxZoomTool\"},{\"attributes\":{\"source\":{\"id\":\"14559\"}},\"id\":\"14568\",\"type\":\"CDSView\"},{\"attributes\":{\"end\":28.065068338,\"reset_end\":28.065068338,\"reset_start\":28.061760242000002,\"start\":28.061760242000002,\"tags\":[[[\"x\",\"x\",null]]]},\"id\":\"14510\",\"type\":\"Range1d\"},{\"attributes\":{},\"id\":\"14534\",\"type\":\"WheelZoomTool\"},{\"attributes\":{\"attribution\":\"Map tiles by <a href=\\\"https://stamen.com\\\">Stamen Design</a>, under <a href=\\\"https://creativecommons.org/licenses/by/3.0\\\">CC BY 3.0</a>. Data by <a href=\\\"https://openstreetmap.org\\\">OpenStreetMap</a>, under <a href=\\\"https://www.openstreetmap.org/copyright\\\">ODbL</a>.\",\"url\":\"http://tile.stamen.com/toner-background/{Z}/{X}/{Y}.png\"},\"id\":\"14551\",\"type\":\"WMTSTileSource\"},{\"attributes\":{\"fill_color\":{\"field\":\"color\",\"transform\":{\"id\":\"14558\"}},\"line_color\":{\"field\":\"color\",\"transform\":{\"id\":\"14558\"}},\"line_width\":{\"value\":7.0},\"size\":{\"units\":\"screen\",\"value\":5.477225575051661},\"x\":{\"field\":\"x\"},\"y\":{\"field\":\"y\"}},\"id\":\"14564\",\"type\":\"Scatter\"},{\"attributes\":{},\"id\":\"14520\",\"type\":\"LinearScale\"},{\"attributes\":{\"bottom_units\":\"screen\",\"fill_alpha\":0.5,\"fill_color\":\"lightgrey\",\"left_units\":\"screen\",\"level\":\"overlay\",\"line_alpha\":1.0,\"line_color\":\"black\",\"line_dash\":[4,4],\"line_width\":2,\"right_units\":\"screen\",\"top_units\":\"screen\"},\"id\":\"14537\",\"type\":\"BoxAnnotation\"},{\"attributes\":{},\"id\":\"14533\",\"type\":\"PanTool\"}],\"root_ids\":[\"14506\"]},\"title\":\"Bokeh Application\",\"version\":\"2.2.2\"}};\n",
       "  var render_items = [{\"docid\":\"8c2cecab-b071-40cd-97fc-9a7d71bead7a\",\"root_ids\":[\"14506\"],\"roots\":{\"14506\":\"96a34b9d-d1f0-4435-8108-c104451e727a\"}}];\n",
       "  root.Bokeh.embed.embed_items_notebook(docs_json, render_items);\n",
       "  }\n",
       "if (root.Bokeh !== undefined) {\n",
       "    embed_document(root);\n",
       "  } else {\n",
       "    var attempts = 0;\n",
       "    var timer = setInterval(function(root) {\n",
       "      if (root.Bokeh !== undefined) {\n",
       "        clearInterval(timer);\n",
       "        embed_document(root);\n",
       "      } else if (document.readyState == \"complete\") {\n",
       "        attempts++;\n",
       "        if (attempts > 100) {\n",
       "          clearInterval(timer);\n",
       "          console.log(\"Bokeh: ERROR: Unable to run BokehJS code because BokehJS library is missing\");\n",
       "        }\n",
       "      }\n",
       "    }, 10, root)\n",
       "  }\n",
       "})(window);</script>"
      ],
      "text/plain": [
       ":Overlay\n",
       "   .Tiles.I  :Tiles   [x,y]\n",
       "   .Points.I :Points   [x,y]   (name)"
      ]
     },
     "execution_count": 458,
     "metadata": {
      "application/vnd.holoviews_exec.v0+json": {
       "id": "14506"
      }
     },
     "output_type": "execute_result"
    }
   ],
   "source": [
    "xyz= place_marks.hvplot(c='name',hover_cols=['name'],width=150, height=100, line_width=7.0, tiles='StamenTonerBackground', cmap='Viridis', colorbar=True, clim=(0,20),value_label='name',legend='top')\n"
   ]
  },
  {
   "cell_type": "markdown",
   "metadata": {},
   "source": [
    "#### Layered map creation containing place markers and start - end points of vehicle"
   ]
  },
  {
   "cell_type": "code",
   "execution_count": 467,
   "metadata": {
    "scrolled": true
   },
   "outputs": [],
   "source": [
    "layered_plot=( traj_collection.hvplot(c='speed', width=1000, height=500, line_width=4.0, tiles='OSM', cmap='Viridis', colorbar=True, clim=(0,20),value_label='speed') *(start_point.hvplot(geo=True, size=200, color='green',hover_cols=['Location_name']) *(end_point.hvplot(geo=True, size=200, color='green',hover_cols=['Location_name'])*(place_marks.hvplot(geo=True, size=200, color='orange',hover_cols=['name']))) ))\n",
    "\n",
    "hvplot.save(layered_plot,'movement_data_speed_viz_using_hvplot.html')"
   ]
  },
  {
   "cell_type": "markdown",
   "metadata": {},
   "source": [
    "#### Let's generate heatmap with time to animate the vehicle tracking"
   ]
  },
  {
   "cell_type": "code",
   "execution_count": 305,
   "metadata": {},
   "outputs": [
    {
     "data": {
      "text/html": [
       "<div>\n",
       "<style scoped>\n",
       "    .dataframe tbody tr th:only-of-type {\n",
       "        vertical-align: middle;\n",
       "    }\n",
       "\n",
       "    .dataframe tbody tr th {\n",
       "        vertical-align: top;\n",
       "    }\n",
       "\n",
       "    .dataframe thead th {\n",
       "        text-align: right;\n",
       "    }\n",
       "</style>\n",
       "<table border=\"1\" class=\"dataframe\">\n",
       "  <thead>\n",
       "    <tr style=\"text-align: right;\">\n",
       "      <th></th>\n",
       "      <th>lat</th>\n",
       "      <th>lon</th>\n",
       "    </tr>\n",
       "  </thead>\n",
       "  <tbody>\n",
       "    <tr>\n",
       "      <th>0</th>\n",
       "      <td>-26.022658</td>\n",
       "      <td>28.062550</td>\n",
       "    </tr>\n",
       "    <tr>\n",
       "      <th>1</th>\n",
       "      <td>-26.022656</td>\n",
       "      <td>28.062540</td>\n",
       "    </tr>\n",
       "    <tr>\n",
       "      <th>2</th>\n",
       "      <td>-26.022653</td>\n",
       "      <td>28.062524</td>\n",
       "    </tr>\n",
       "    <tr>\n",
       "      <th>3</th>\n",
       "      <td>-26.022651</td>\n",
       "      <td>28.062507</td>\n",
       "    </tr>\n",
       "    <tr>\n",
       "      <th>4</th>\n",
       "      <td>-26.022649</td>\n",
       "      <td>28.062491</td>\n",
       "    </tr>\n",
       "  </tbody>\n",
       "</table>\n",
       "</div>"
      ],
      "text/plain": [
       "         lat        lon\n",
       "0 -26.022658  28.062550\n",
       "1 -26.022656  28.062540\n",
       "2 -26.022653  28.062524\n",
       "3 -26.022651  28.062507\n",
       "4 -26.022649  28.062491"
      ]
     },
     "execution_count": 305,
     "metadata": {},
     "output_type": "execute_result"
    }
   ],
   "source": [
    "heat = gdf[['lat','lon']]\n",
    "heat.reset_index(drop=True,inplace=True)\n",
    "\n",
    "heat.head()"
   ]
  },
  {
   "cell_type": "code",
   "execution_count": 306,
   "metadata": {},
   "outputs": [
    {
     "data": {
      "text/plain": [
       "[array([-26.02265772,  28.06255005]),\n",
       " array([-26.02265565,  28.06253986]),\n",
       " array([-26.02265279,  28.06252398]),\n",
       " array([-26.02265065,  28.06250702]),\n",
       " array([-26.02264895,  28.06249117]),\n",
       " array([-26.02264778,  28.06247802]),\n",
       " array([-26.02264937,  28.06246826]),\n",
       " array([-26.02265236,  28.06245695]),\n",
       " array([-26.022659  ,  28.06244424]),\n",
       " array([-26.02266762,  28.06243341])]"
      ]
     },
     "execution_count": 306,
     "metadata": {},
     "output_type": "execute_result"
    }
   ],
   "source": [
    "heat_data = list(heat.values)\n",
    "heat_data[:10]"
   ]
  },
  {
   "cell_type": "markdown",
   "metadata": {},
   "source": [
    "#### HeatMap generation  for the heat data"
   ]
  },
  {
   "cell_type": "code",
   "execution_count": 307,
   "metadata": {},
   "outputs": [
    {
     "data": {
      "text/html": [
       "<div style=\"width:100%;\"><div style=\"position:relative;width:100%;height:0;padding-bottom:60%;\"><span style=\"color:#565656\">Make this Notebook Trusted to load map: File -> Trust Notebook</span><iframe src=\"about:blank\" style=\"position:absolute;width:100%;height:100%;left:0;top:0;border:none !important;\" data-html=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 onload=\"this.contentDocument.open();this.contentDocument.write(atob(this.getAttribute('data-html')));this.contentDocument.close();\" allowfullscreen webkitallowfullscreen mozallowfullscreen></iframe></div></div>"
      ],
      "text/plain": [
       "<folium.folium.Map at 0x18b24b21648>"
      ]
     },
     "execution_count": 307,
     "metadata": {},
     "output_type": "execute_result"
    }
   ],
   "source": [
    "\n",
    "m = folium.Map([-26.022658,28.062550], zoom_start=10, tiles='cartodbpositron')\n",
    "HeatMap(heat_data).add_to(m)\n",
    "m"
   ]
  },
  {
   "cell_type": "markdown",
   "metadata": {},
   "source": [
    "#### Gardient experiment on HeatMap"
   ]
  },
  {
   "cell_type": "code",
   "execution_count": 308,
   "metadata": {},
   "outputs": [
    {
     "data": {
      "text/html": [
       "<div style=\"width:100%;\"><div style=\"position:relative;width:100%;height:0;padding-bottom:60%;\"><span style=\"color:#565656\">Make this Notebook Trusted to load map: File -> Trust Notebook</span><iframe src=\"about:blank\" style=\"position:absolute;width:100%;height:100%;left:0;top:0;border:none !important;\" data-html=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 onload=\"this.contentDocument.open();this.contentDocument.write(atob(this.getAttribute('data-html')));this.contentDocument.close();\" allowfullscreen webkitallowfullscreen mozallowfullscreen></iframe></div></div>"
      ],
      "text/plain": [
       "<folium.folium.Map at 0x18b16832b08>"
      ]
     },
     "execution_count": 308,
     "metadata": {},
     "output_type": "execute_result"
    }
   ],
   "source": [
    "gradient = {\n",
    "  '0': 'Black',\n",
    "  '0.4': 'Purple',\n",
    "  '0.6': 'Red',\n",
    "  '0.8': 'Yellow',\n",
    "  '1': 'White'\n",
    "}\n",
    "\n",
    "m = folium.Map([-26.022658,28.062550], zoom_start=10, tiles='cartodbpositron')\n",
    "HeatMap(heat_data, gradient=gradient).add_to(m)\n",
    "m"
   ]
  },
  {
   "cell_type": "code",
   "execution_count": 309,
   "metadata": {},
   "outputs": [
    {
     "data": {
      "text/html": [
       "<div>\n",
       "<style scoped>\n",
       "    .dataframe tbody tr th:only-of-type {\n",
       "        vertical-align: middle;\n",
       "    }\n",
       "\n",
       "    .dataframe tbody tr th {\n",
       "        vertical-align: top;\n",
       "    }\n",
       "\n",
       "    .dataframe thead th {\n",
       "        text-align: right;\n",
       "    }\n",
       "</style>\n",
       "<table border=\"1\" class=\"dataframe\">\n",
       "  <thead>\n",
       "    <tr style=\"text-align: right;\">\n",
       "      <th></th>\n",
       "      <th>time</th>\n",
       "      <th>lat</th>\n",
       "      <th>lon</th>\n",
       "      <th>time_seconds</th>\n",
       "    </tr>\n",
       "  </thead>\n",
       "  <tbody>\n",
       "    <tr>\n",
       "      <th>0</th>\n",
       "      <td>2020-10-21 16:36:23</td>\n",
       "      <td>-26.022658</td>\n",
       "      <td>28.062550</td>\n",
       "      <td>59783</td>\n",
       "    </tr>\n",
       "    <tr>\n",
       "      <th>1</th>\n",
       "      <td>2020-10-21 16:36:24</td>\n",
       "      <td>-26.022656</td>\n",
       "      <td>28.062540</td>\n",
       "      <td>59784</td>\n",
       "    </tr>\n",
       "    <tr>\n",
       "      <th>2</th>\n",
       "      <td>2020-10-21 16:36:25</td>\n",
       "      <td>-26.022653</td>\n",
       "      <td>28.062524</td>\n",
       "      <td>59785</td>\n",
       "    </tr>\n",
       "    <tr>\n",
       "      <th>3</th>\n",
       "      <td>2020-10-21 16:36:26</td>\n",
       "      <td>-26.022651</td>\n",
       "      <td>28.062507</td>\n",
       "      <td>59786</td>\n",
       "    </tr>\n",
       "    <tr>\n",
       "      <th>4</th>\n",
       "      <td>2020-10-21 16:36:27</td>\n",
       "      <td>-26.022649</td>\n",
       "      <td>28.062491</td>\n",
       "      <td>59787</td>\n",
       "    </tr>\n",
       "  </tbody>\n",
       "</table>\n",
       "</div>"
      ],
      "text/plain": [
       "                 time        lat        lon  time_seconds\n",
       "0 2020-10-21 16:36:23 -26.022658  28.062550         59783\n",
       "1 2020-10-21 16:36:24 -26.022656  28.062540         59784\n",
       "2 2020-10-21 16:36:25 -26.022653  28.062524         59785\n",
       "3 2020-10-21 16:36:26 -26.022651  28.062507         59786\n",
       "4 2020-10-21 16:36:27 -26.022649  28.062491         59787"
      ]
     },
     "execution_count": 309,
     "metadata": {},
     "output_type": "execute_result"
    }
   ],
   "source": [
    "data = gdf[['lat','lon']]\n",
    "data.reset_index(inplace=True)\n",
    "x = data.time.dt.hour * 3600\n",
    "y = data.time.dt.minute*60\n",
    "z = data.time.dt.second\n",
    "t = x+y+z\n",
    "data['time_seconds'] = t\n",
    "data.head()"
   ]
  },
  {
   "cell_type": "code",
   "execution_count": 310,
   "metadata": {},
   "outputs": [
    {
     "data": {
      "text/html": [
       "<div>\n",
       "<style scoped>\n",
       "    .dataframe tbody tr th:only-of-type {\n",
       "        vertical-align: middle;\n",
       "    }\n",
       "\n",
       "    .dataframe tbody tr th {\n",
       "        vertical-align: top;\n",
       "    }\n",
       "\n",
       "    .dataframe thead th {\n",
       "        text-align: right;\n",
       "    }\n",
       "</style>\n",
       "<table border=\"1\" class=\"dataframe\">\n",
       "  <thead>\n",
       "    <tr style=\"text-align: right;\">\n",
       "      <th></th>\n",
       "      <th>lat</th>\n",
       "      <th>lon</th>\n",
       "      <th>time_seconds</th>\n",
       "    </tr>\n",
       "  </thead>\n",
       "  <tbody>\n",
       "    <tr>\n",
       "      <th>1281</th>\n",
       "      <td>-26.022273</td>\n",
       "      <td>28.063139</td>\n",
       "      <td>61671</td>\n",
       "    </tr>\n",
       "    <tr>\n",
       "      <th>1282</th>\n",
       "      <td>-26.022273</td>\n",
       "      <td>28.063139</td>\n",
       "      <td>61672</td>\n",
       "    </tr>\n",
       "    <tr>\n",
       "      <th>1283</th>\n",
       "      <td>-26.022273</td>\n",
       "      <td>28.063139</td>\n",
       "      <td>61673</td>\n",
       "    </tr>\n",
       "    <tr>\n",
       "      <th>1284</th>\n",
       "      <td>-26.022273</td>\n",
       "      <td>28.063139</td>\n",
       "      <td>61674</td>\n",
       "    </tr>\n",
       "    <tr>\n",
       "      <th>1285</th>\n",
       "      <td>-26.022273</td>\n",
       "      <td>28.063139</td>\n",
       "      <td>61675</td>\n",
       "    </tr>\n",
       "  </tbody>\n",
       "</table>\n",
       "</div>"
      ],
      "text/plain": [
       "            lat        lon  time_seconds\n",
       "1281 -26.022273  28.063139         61671\n",
       "1282 -26.022273  28.063139         61672\n",
       "1283 -26.022273  28.063139         61673\n",
       "1284 -26.022273  28.063139         61674\n",
       "1285 -26.022273  28.063139         61675"
      ]
     },
     "execution_count": 310,
     "metadata": {},
     "output_type": "execute_result"
    }
   ],
   "source": [
    "dt_heat =data[['lat','lon','time_seconds']]\n",
    "dt_heat.tail()"
   ]
  },
  {
   "cell_type": "markdown",
   "metadata": {},
   "source": [
    "#### Data preparation for vehicle movement animation using HeatMapWithTime"
   ]
  },
  {
   "cell_type": "code",
   "execution_count": 311,
   "metadata": {},
   "outputs": [],
   "source": [
    "heat_data_animation = [[[row['lat'],row['lon']] for index, row in dt_heat[dt_heat['time_seconds'] == i].iterrows()] for i in range(59782,60280)]"
   ]
  },
  {
   "cell_type": "code",
   "execution_count": 312,
   "metadata": {},
   "outputs": [
    {
     "data": {
      "text/plain": [
       "list"
      ]
     },
     "execution_count": 312,
     "metadata": {},
     "output_type": "execute_result"
    }
   ],
   "source": [
    "type(heat_data_animation)"
   ]
  },
  {
   "cell_type": "markdown",
   "metadata": {},
   "source": [
    "#### Vehicle mobility statistics calculations"
   ]
  },
  {
   "cell_type": "code",
   "execution_count": 393,
   "metadata": {},
   "outputs": [
    {
     "name": "stdout",
     "output_type": "stream",
     "text": [
      "16.91\n",
      "0 days 00:31:32\n",
      "31.53\n"
     ]
    }
   ],
   "source": [
    "max_speed=traj_collection.get_max('speed')\n",
    "average_speed=df['speed'].sum()/df['speed'].count()\n",
    "average_speed = round(average_speed * 3.6,2)\n",
    "print(average_speed)\n",
    "Time_diff = df.index[-1] - df.index[0]\n",
    "print(Time_diff)\n",
    "seconds= Time_diff.total_seconds()\n",
    "#print(b)\n",
    "total_minutes=round(seconds/60,2)\n",
    "print(total_minutes)"
   ]
  },
  {
   "cell_type": "markdown",
   "metadata": {},
   "source": [
    "#### Adding a lable with Vehicle movement analysis "
   ]
  },
  {
   "cell_type": "code",
   "execution_count": 395,
   "metadata": {},
   "outputs": [],
   "source": [
    "m = folium.Map([-26.022273,28.063139], zoom_start=15, tiles='openstreetmap')\n",
    "\n",
    "step = cm.StepColormap(\n",
    "    ['green', 'blue'],\n",
    "    vmin=0.1, vmax=0.1,\n",
    "    index=[0,1],\n",
    "    caption=f'Vehicle duration on ground: {total_minutes} Minutes & Average Speed: {average_speed} km/hr'\n",
    ")\n",
    "\n",
    "step.add_to(m)\n",
    "\n",
    "\n",
    "folium.GeoJson(place_marks,popup=folium.GeoJsonPopup(fields=['name']),tooltip=folium.GeoJsonTooltip(fields=['name'])).add_to(m)\n",
    "\n",
    "m.save('label.html')"
   ]
  },
  {
   "cell_type": "markdown",
   "metadata": {},
   "source": [
    "#### HeatMapWithTime animation showing the vehicle movement"
   ]
  },
  {
   "cell_type": "code",
   "execution_count": 470,
   "metadata": {},
   "outputs": [],
   "source": [
    "m = folium.Map([-26.022273,28.063139], zoom_start=15, tiles='openstreetmap')\n",
    "\n",
    "gradient = {\n",
    "  '1': 'red'}\n",
    "\n",
    "step = cm.StepColormap(\n",
    "    ['green', 'blue'],\n",
    "    vmin=0.1, vmax=0.1,\n",
    "    index=[0,1],\n",
    "    caption=f'Vehicle duration on ground: {total_minutes} Minutes & Average Speed: {average_speed} km/hr'\n",
    ")\n",
    "step.add_to(m)\n",
    "\n",
    "HeatMapWithTime(heat_data_animation,auto_play=True,max_opacity=0.8,gradient=gradient,min_speed=8,max_speed=15).add_to(m)\n",
    "\n",
    "folium.GeoJson(place_marks,popup=folium.GeoJsonPopup(fields=['name']),tooltip=folium.GeoJsonTooltip(fields=['name'])).add_to(m)\n",
    "\n",
    "folium.TileLayer('cartodbpositron').add_to(m)\n",
    "folium.TileLayer('CartoDB dark_matter').add_to(m)\n",
    "\n",
    "folium.LayerControl().add_to(m)\n",
    "\n",
    "m.save('vehicle_mobile_animation.html')"
   ]
  }
 ],
 "metadata": {
  "kernelspec": {
   "display_name": "movingpandas",
   "language": "python",
   "name": "movingpandas"
  },
  "language_info": {
   "codemirror_mode": {
    "name": "ipython",
    "version": 3
   },
   "file_extension": ".py",
   "mimetype": "text/x-python",
   "name": "python",
   "nbconvert_exporter": "python",
   "pygments_lexer": "ipython3",
   "version": "3.7.8"
  }
 },
 "nbformat": 4,
 "nbformat_minor": 4
}
